{
  "cells": [
    {
      "cell_type": "code",
      "execution_count": 1,
      "metadata": {
        "id": "nA99tqH5iQzp"
      },
      "outputs": [],
      "source": [
        "import pandas as pd\n",
        "import numpy as np\n",
        "import tensorflow as tf\n",
        "from sklearn.model_selection import train_test_split\n",
        "from sklearn.preprocessing import LabelEncoder, StandardScaler\n",
        "from sklearn.metrics import classification_report, accuracy_score\n",
        "from sklearn.utils import class_weight"
      ]
    },
    {
      "cell_type": "code",
      "execution_count": 2,
      "metadata": {
        "colab": {
          "base_uri": "https://localhost:8080/"
        },
        "id": "b93snBENi9rt",
        "outputId": "8c4a0701-e0da-4a74-f23a-41be1b2379d9"
      },
      "outputs": [
        {
          "name": "stdout",
          "output_type": "stream",
          "text": [
            "Unique values in 'class' column: [0 1]\n"
          ]
        },
        {
          "name": "stderr",
          "output_type": "stream",
          "text": [
            "C:\\Users\\systempc\\AppData\\Local\\Temp\\ipykernel_24652\\546123116.py:5: FutureWarning: Downcasting behavior in `replace` is deprecated and will be removed in a future version. To retain the old behavior, explicitly call `result.infer_objects(copy=False)`. To opt-in to the future behavior, set `pd.set_option('future.no_silent_downcasting', True)`\n",
            "  df['class'] = df['class'].replace(['r'], 1)\n"
          ]
        }
      ],
      "source": [
        "df = pd.read_csv(\"../data/instagram.csv\")\n",
        "df['class'] = df['class'].replace(['a', 'i', 's'], 'f')\n",
        "df = df.sample(frac=1, random_state=42).reset_index(drop=True)\n",
        "df['class'] = df['class'].replace(['f'], 0)\n",
        "df['class'] = df['class'].replace(['r'], 1)\n",
        "print(\"Unique values in 'class' column:\", df['class'].unique())"
      ]
    },
    {
      "cell_type": "code",
      "execution_count": 3,
      "metadata": {
        "colab": {
          "base_uri": "https://localhost:8080/"
        },
        "id": "A5rtDIeii_Uq",
        "outputId": "47587fb7-9888-424a-f582-b645829986e0"
      },
      "outputs": [
        {
          "name": "stdout",
          "output_type": "stream",
          "text": [
            "    pos   flw   flg  bl  pic  lin    cl        cz     ni        erl   erc  \\\n",
            "0   120   126   740  69    1    0  1036  0.055556  0.111   8.600000  0.66   \n",
            "1  1200   800  2800  91    1    1   381  0.000000  0.556   0.550000  0.03   \n",
            "2     0     1    38   0    0    0     0  0.000000  0.000   0.000000  0.00   \n",
            "3    49   297   275  44    1    1    36  0.222222  0.000  19.230000  0.58   \n",
            "4     1  1800  7500   0    1    0   165  0.000000  0.000  29.780001  1.83   \n",
            "\n",
            "      lt     hc     pr     fo        cs          pi  class  \n",
            "0  0.000  0.556  0.667  0.278  0.173787  113.461594      0  \n",
            "1  0.000  0.000  0.000  0.000  0.189783    7.124306      1  \n",
            "2  0.000  0.000  0.000  0.000  1.000000    0.000000      0  \n",
            "3  0.889  0.389  0.000  0.056  0.052664  111.983299      1  \n",
            "4  0.000  0.000  0.000  0.000  0.000000    0.000000      0  \n"
          ]
        }
      ],
      "source": [
        "print(df.head())"
      ]
    },
    {
      "cell_type": "code",
      "execution_count": 4,
      "metadata": {
        "id": "MvYuMzRMjBPP"
      },
      "outputs": [],
      "source": [
        "X = df.drop('class', axis=1)\n",
        "y = df['class']"
      ]
    },
    {
      "cell_type": "code",
      "execution_count": 5,
      "metadata": {
        "id": "nph6Q5DijESS"
      },
      "outputs": [],
      "source": [
        "scaler = StandardScaler()\n",
        "X_scaled = scaler.fit_transform(X)"
      ]
    },
    {
      "cell_type": "code",
      "execution_count": 6,
      "metadata": {
        "id": "nEY8qE8UjF6O"
      },
      "outputs": [],
      "source": [
        "X_train, X_test, y_train, y_test = train_test_split(X_scaled, y, test_size=0.2, random_state=42)"
      ]
    },
    {
      "cell_type": "code",
      "execution_count": 7,
      "metadata": {
        "colab": {
          "base_uri": "https://localhost:8080/"
        },
        "id": "DgYwfX0pkNjV",
        "outputId": "99cbec30-2694-4ce3-8268-8f1bb3127e2c"
      },
      "outputs": [
        {
          "name": "stdout",
          "output_type": "stream",
          "text": [
            "Class weights: {0: np.float64(0.8278524503511289), 1: np.float64(1.262538147060517)}\n"
          ]
        }
      ],
      "source": [
        "from sklearn.utils import class_weight\n",
        "\n",
        "# Compute class weights explicitly for classes 0 and 1\n",
        "class_weights = class_weight.compute_class_weight(\n",
        "    class_weight='balanced',\n",
        "    classes=np.array([0, 1]),\n",
        "    y=y_train\n",
        ")\n",
        "\n",
        "# Explicitly define the dictionary with keys 0 and 1\n",
        "class_weights_dict = {0: class_weights[0], 1: class_weights[1]}\n",
        "print(\"Class weights:\", class_weights_dict)"
      ]
    },
    {
      "cell_type": "code",
      "execution_count": 8,
      "metadata": {
        "colab": {
          "base_uri": "https://localhost:8080/"
        },
        "id": "IL17dvDvjH6U",
        "outputId": "ee213fe6-2d38-42ed-853f-e562cafeec04"
      },
      "outputs": [
        {
          "name": "stderr",
          "output_type": "stream",
          "text": [
            "C:\\Users\\systempc\\AppData\\Roaming\\Python\\Python312\\site-packages\\keras\\src\\layers\\core\\input_layer.py:26: UserWarning: Argument `input_shape` is deprecated. Use `shape` instead.\n",
            "  warnings.warn(\n"
          ]
        }
      ],
      "source": [
        "model = tf.keras.models.Sequential([\n",
        "    tf.keras.layers.InputLayer(input_shape=(X_train.shape[1],)),\n",
        "    tf.keras.layers.Dense(64, activation='relu'),\n",
        "    tf.keras.layers.Dropout(0.5),\n",
        "    tf.keras.layers.Dense(32, activation='relu'),\n",
        "    tf.keras.layers.Dropout(0.5),\n",
        "    tf.keras.layers.Dense(16, activation='relu'),\n",
        "    tf.keras.layers.Dense(1, activation='sigmoid')\n",
        "])"
      ]
    },
    {
      "cell_type": "code",
      "execution_count": 9,
      "metadata": {
        "id": "9ljBk4r8jJxu"
      },
      "outputs": [],
      "source": [
        "model.compile(optimizer='adam', loss='binary_crossentropy', metrics=['accuracy'])"
      ]
    },
    {
      "cell_type": "code",
      "execution_count": 10,
      "metadata": {
        "id": "ib9JzIH8kdNN"
      },
      "outputs": [],
      "source": [
        "# early_stopping = tf.keras.callbacks.EarlyStopping(monitor='val_loss', patience=5, restore_best_weights=True)"
      ]
    },
    {
      "cell_type": "code",
      "execution_count": 11,
      "metadata": {
        "colab": {
          "base_uri": "https://localhost:8080/"
        },
        "id": "Dl8bvQK7kt11",
        "outputId": "b6ce5c1e-c145-4283-a5da-b3482e33e1e9"
      },
      "outputs": [
        {
          "name": "stdout",
          "output_type": "stream",
          "text": [
            "Unique classes in y_train: [0 1]\n"
          ]
        }
      ],
      "source": [
        "print(\"Unique classes in y_train:\", np.unique(y_train))"
      ]
    },
    {
      "cell_type": "code",
      "execution_count": 12,
      "metadata": {
        "colab": {
          "base_uri": "https://localhost:8080/"
        },
        "id": "k8cMRmG4jL2y",
        "outputId": "1866fd4f-282e-4c0a-a670-625fee494d27"
      },
      "outputs": [
        {
          "name": "stdout",
          "output_type": "stream",
          "text": [
            "Epoch 1/50\n",
            "\u001b[1m2193/2193\u001b[0m \u001b[32m━━━━━━━━━━━━━━━━━━━━\u001b[0m\u001b[37m\u001b[0m \u001b[1m3s\u001b[0m 996us/step - accuracy: 0.7430 - loss: 0.5130 - val_accuracy: 0.8308 - val_loss: 0.3730\n",
            "Epoch 2/50\n",
            "\u001b[1m2193/2193\u001b[0m \u001b[32m━━━━━━━━━━━━━━━━━━━━\u001b[0m\u001b[37m\u001b[0m \u001b[1m2s\u001b[0m 904us/step - accuracy: 0.8259 - loss: 0.3888 - val_accuracy: 0.8516 - val_loss: 0.3229\n",
            "Epoch 3/50\n",
            "\u001b[1m2193/2193\u001b[0m \u001b[32m━━━━━━━━━━━━━━━━━━━━\u001b[0m\u001b[37m\u001b[0m \u001b[1m2s\u001b[0m 866us/step - accuracy: 0.8389 - loss: 0.3486 - val_accuracy: 0.8563 - val_loss: 0.3022\n",
            "Epoch 4/50\n",
            "\u001b[1m2193/2193\u001b[0m \u001b[32m━━━━━━━━━━━━━━━━━━━━\u001b[0m\u001b[37m\u001b[0m \u001b[1m2s\u001b[0m 849us/step - accuracy: 0.8486 - loss: 0.3268 - val_accuracy: 0.8601 - val_loss: 0.2954\n",
            "Epoch 5/50\n",
            "\u001b[1m2193/2193\u001b[0m \u001b[32m━━━━━━━━━━━━━━━━━━━━\u001b[0m\u001b[37m\u001b[0m \u001b[1m2s\u001b[0m 899us/step - accuracy: 0.8499 - loss: 0.3176 - val_accuracy: 0.8578 - val_loss: 0.2927\n",
            "Epoch 6/50\n",
            "\u001b[1m2193/2193\u001b[0m \u001b[32m━━━━━━━━━━━━━━━━━━━━\u001b[0m\u001b[37m\u001b[0m \u001b[1m2s\u001b[0m 901us/step - accuracy: 0.8500 - loss: 0.3124 - val_accuracy: 0.8615 - val_loss: 0.2907\n",
            "Epoch 7/50\n",
            "\u001b[1m2193/2193\u001b[0m \u001b[32m━━━━━━━━━━━━━━━━━━━━\u001b[0m\u001b[37m\u001b[0m \u001b[1m2s\u001b[0m 855us/step - accuracy: 0.8523 - loss: 0.3069 - val_accuracy: 0.8613 - val_loss: 0.2861\n",
            "Epoch 8/50\n",
            "\u001b[1m2193/2193\u001b[0m \u001b[32m━━━━━━━━━━━━━━━━━━━━\u001b[0m\u001b[37m\u001b[0m \u001b[1m2s\u001b[0m 937us/step - accuracy: 0.8554 - loss: 0.3028 - val_accuracy: 0.8647 - val_loss: 0.2850\n",
            "Epoch 9/50\n",
            "\u001b[1m2193/2193\u001b[0m \u001b[32m━━━━━━━━━━━━━━━━━━━━\u001b[0m\u001b[37m\u001b[0m \u001b[1m2s\u001b[0m 948us/step - accuracy: 0.8565 - loss: 0.3001 - val_accuracy: 0.8626 - val_loss: 0.2826\n",
            "Epoch 10/50\n",
            "\u001b[1m2193/2193\u001b[0m \u001b[32m━━━━━━━━━━━━━━━━━━━━\u001b[0m\u001b[37m\u001b[0m \u001b[1m2s\u001b[0m 851us/step - accuracy: 0.8552 - loss: 0.2984 - val_accuracy: 0.8656 - val_loss: 0.2818\n",
            "Epoch 11/50\n",
            "\u001b[1m2193/2193\u001b[0m \u001b[32m━━━━━━━━━━━━━━━━━━━━\u001b[0m\u001b[37m\u001b[0m \u001b[1m2s\u001b[0m 875us/step - accuracy: 0.8562 - loss: 0.2978 - val_accuracy: 0.8693 - val_loss: 0.2770\n",
            "Epoch 12/50\n",
            "\u001b[1m2193/2193\u001b[0m \u001b[32m━━━━━━━━━━━━━━━━━━━━\u001b[0m\u001b[37m\u001b[0m \u001b[1m2s\u001b[0m 866us/step - accuracy: 0.8605 - loss: 0.2907 - val_accuracy: 0.8661 - val_loss: 0.2747\n",
            "Epoch 13/50\n",
            "\u001b[1m2193/2193\u001b[0m \u001b[32m━━━━━━━━━━━━━━━━━━━━\u001b[0m\u001b[37m\u001b[0m \u001b[1m2s\u001b[0m 871us/step - accuracy: 0.8578 - loss: 0.2930 - val_accuracy: 0.8661 - val_loss: 0.2742\n",
            "Epoch 14/50\n",
            "\u001b[1m2193/2193\u001b[0m \u001b[32m━━━━━━━━━━━━━━━━━━━━\u001b[0m\u001b[37m\u001b[0m \u001b[1m2s\u001b[0m 868us/step - accuracy: 0.8621 - loss: 0.2870 - val_accuracy: 0.8656 - val_loss: 0.2743\n",
            "Epoch 15/50\n",
            "\u001b[1m2193/2193\u001b[0m \u001b[32m━━━━━━━━━━━━━━━━━━━━\u001b[0m\u001b[37m\u001b[0m \u001b[1m2s\u001b[0m 859us/step - accuracy: 0.8616 - loss: 0.2867 - val_accuracy: 0.8672 - val_loss: 0.2693\n",
            "Epoch 16/50\n",
            "\u001b[1m2193/2193\u001b[0m \u001b[32m━━━━━━━━━━━━━━━━━━━━\u001b[0m\u001b[37m\u001b[0m \u001b[1m2s\u001b[0m 894us/step - accuracy: 0.8624 - loss: 0.2869 - val_accuracy: 0.8700 - val_loss: 0.2683\n",
            "Epoch 17/50\n",
            "\u001b[1m2193/2193\u001b[0m \u001b[32m━━━━━━━━━━━━━━━━━━━━\u001b[0m\u001b[37m\u001b[0m \u001b[1m2s\u001b[0m 905us/step - accuracy: 0.8594 - loss: 0.2869 - val_accuracy: 0.8704 - val_loss: 0.2665\n",
            "Epoch 18/50\n",
            "\u001b[1m2193/2193\u001b[0m \u001b[32m━━━━━━━━━━━━━━━━━━━━\u001b[0m\u001b[37m\u001b[0m \u001b[1m2s\u001b[0m 864us/step - accuracy: 0.8607 - loss: 0.2872 - val_accuracy: 0.8686 - val_loss: 0.2660\n",
            "Epoch 19/50\n",
            "\u001b[1m2193/2193\u001b[0m \u001b[32m━━━━━━━━━━━━━━━━━━━━\u001b[0m\u001b[37m\u001b[0m \u001b[1m2s\u001b[0m 864us/step - accuracy: 0.8625 - loss: 0.2836 - val_accuracy: 0.8726 - val_loss: 0.2666\n",
            "Epoch 20/50\n",
            "\u001b[1m2193/2193\u001b[0m \u001b[32m━━━━━━━━━━━━━━━━━━━━\u001b[0m\u001b[37m\u001b[0m \u001b[1m2s\u001b[0m 858us/step - accuracy: 0.8627 - loss: 0.2813 - val_accuracy: 0.8715 - val_loss: 0.2650\n",
            "Epoch 21/50\n",
            "\u001b[1m2193/2193\u001b[0m \u001b[32m━━━━━━━━━━━━━━━━━━━━\u001b[0m\u001b[37m\u001b[0m \u001b[1m2s\u001b[0m 870us/step - accuracy: 0.8633 - loss: 0.2827 - val_accuracy: 0.8707 - val_loss: 0.2682\n",
            "Epoch 22/50\n",
            "\u001b[1m2193/2193\u001b[0m \u001b[32m━━━━━━━━━━━━━━━━━━━━\u001b[0m\u001b[37m\u001b[0m \u001b[1m2s\u001b[0m 889us/step - accuracy: 0.8646 - loss: 0.2805 - val_accuracy: 0.8692 - val_loss: 0.2649\n",
            "Epoch 23/50\n",
            "\u001b[1m2193/2193\u001b[0m \u001b[32m━━━━━━━━━━━━━━━━━━━━\u001b[0m\u001b[37m\u001b[0m \u001b[1m2s\u001b[0m 855us/step - accuracy: 0.8634 - loss: 0.2790 - val_accuracy: 0.8729 - val_loss: 0.2650\n",
            "Epoch 24/50\n",
            "\u001b[1m2193/2193\u001b[0m \u001b[32m━━━━━━━━━━━━━━━━━━━━\u001b[0m\u001b[37m\u001b[0m \u001b[1m2s\u001b[0m 852us/step - accuracy: 0.8655 - loss: 0.2781 - val_accuracy: 0.8687 - val_loss: 0.2633\n",
            "Epoch 25/50\n",
            "\u001b[1m2193/2193\u001b[0m \u001b[32m━━━━━━━━━━━━━━━━━━━━\u001b[0m\u001b[37m\u001b[0m \u001b[1m2s\u001b[0m 865us/step - accuracy: 0.8639 - loss: 0.2794 - val_accuracy: 0.8742 - val_loss: 0.2608\n",
            "Epoch 26/50\n",
            "\u001b[1m2193/2193\u001b[0m \u001b[32m━━━━━━━━━━━━━━━━━━━━\u001b[0m\u001b[37m\u001b[0m \u001b[1m2s\u001b[0m 862us/step - accuracy: 0.8629 - loss: 0.2819 - val_accuracy: 0.8725 - val_loss: 0.2597\n",
            "Epoch 27/50\n",
            "\u001b[1m2193/2193\u001b[0m \u001b[32m━━━━━━━━━━━━━━━━━━━━\u001b[0m\u001b[37m\u001b[0m \u001b[1m2s\u001b[0m 860us/step - accuracy: 0.8652 - loss: 0.2800 - val_accuracy: 0.8695 - val_loss: 0.2626\n",
            "Epoch 28/50\n",
            "\u001b[1m2193/2193\u001b[0m \u001b[32m━━━━━━━━━━━━━━━━━━━━\u001b[0m\u001b[37m\u001b[0m \u001b[1m2s\u001b[0m 937us/step - accuracy: 0.8626 - loss: 0.2801 - val_accuracy: 0.8664 - val_loss: 0.2641\n",
            "Epoch 29/50\n",
            "\u001b[1m2193/2193\u001b[0m \u001b[32m━━━━━━━━━━━━━━━━━━━━\u001b[0m\u001b[37m\u001b[0m \u001b[1m2s\u001b[0m 878us/step - accuracy: 0.8638 - loss: 0.2801 - val_accuracy: 0.8742 - val_loss: 0.2611\n",
            "Epoch 30/50\n",
            "\u001b[1m2193/2193\u001b[0m \u001b[32m━━━━━━━━━━━━━━━━━━━━\u001b[0m\u001b[37m\u001b[0m \u001b[1m2s\u001b[0m 869us/step - accuracy: 0.8641 - loss: 0.2777 - val_accuracy: 0.8719 - val_loss: 0.2625\n",
            "Epoch 31/50\n",
            "\u001b[1m2193/2193\u001b[0m \u001b[32m━━━━━━━━━━━━━━━━━━━━\u001b[0m\u001b[37m\u001b[0m \u001b[1m3s\u001b[0m 2ms/step - accuracy: 0.8669 - loss: 0.2757 - val_accuracy: 0.8736 - val_loss: 0.2592\n",
            "Epoch 32/50\n",
            "\u001b[1m2193/2193\u001b[0m \u001b[32m━━━━━━━━━━━━━━━━━━━━\u001b[0m\u001b[37m\u001b[0m \u001b[1m4s\u001b[0m 2ms/step - accuracy: 0.8655 - loss: 0.2743 - val_accuracy: 0.8728 - val_loss: 0.2623\n",
            "Epoch 33/50\n",
            "\u001b[1m2193/2193\u001b[0m \u001b[32m━━━━━━━━━━━━━━━━━━━━\u001b[0m\u001b[37m\u001b[0m \u001b[1m4s\u001b[0m 2ms/step - accuracy: 0.8656 - loss: 0.2786 - val_accuracy: 0.8734 - val_loss: 0.2587\n",
            "Epoch 34/50\n",
            "\u001b[1m2193/2193\u001b[0m \u001b[32m━━━━━━━━━━━━━━━━━━━━\u001b[0m\u001b[37m\u001b[0m \u001b[1m4s\u001b[0m 2ms/step - accuracy: 0.8672 - loss: 0.2748 - val_accuracy: 0.8720 - val_loss: 0.2615\n",
            "Epoch 35/50\n",
            "\u001b[1m2193/2193\u001b[0m \u001b[32m━━━━━━━━━━━━━━━━━━━━\u001b[0m\u001b[37m\u001b[0m \u001b[1m3s\u001b[0m 1ms/step - accuracy: 0.8668 - loss: 0.2759 - val_accuracy: 0.8728 - val_loss: 0.2602\n",
            "Epoch 36/50\n",
            "\u001b[1m2193/2193\u001b[0m \u001b[32m━━━━━━━━━━━━━━━━━━━━\u001b[0m\u001b[37m\u001b[0m \u001b[1m2s\u001b[0m 861us/step - accuracy: 0.8664 - loss: 0.2785 - val_accuracy: 0.8762 - val_loss: 0.2594\n",
            "Epoch 37/50\n",
            "\u001b[1m2193/2193\u001b[0m \u001b[32m━━━━━━━━━━━━━━━━━━━━\u001b[0m\u001b[37m\u001b[0m \u001b[1m2s\u001b[0m 873us/step - accuracy: 0.8649 - loss: 0.2769 - val_accuracy: 0.8723 - val_loss: 0.2602\n",
            "Epoch 38/50\n",
            "\u001b[1m2193/2193\u001b[0m \u001b[32m━━━━━━━━━━━━━━━━━━━━\u001b[0m\u001b[37m\u001b[0m \u001b[1m2s\u001b[0m 873us/step - accuracy: 0.8679 - loss: 0.2718 - val_accuracy: 0.8773 - val_loss: 0.2572\n",
            "Epoch 39/50\n",
            "\u001b[1m2193/2193\u001b[0m \u001b[32m━━━━━━━━━━━━━━━━━━━━\u001b[0m\u001b[37m\u001b[0m \u001b[1m2s\u001b[0m 882us/step - accuracy: 0.8684 - loss: 0.2747 - val_accuracy: 0.8768 - val_loss: 0.2575\n",
            "Epoch 40/50\n",
            "\u001b[1m2193/2193\u001b[0m \u001b[32m━━━━━━━━━━━━━━━━━━━━\u001b[0m\u001b[37m\u001b[0m \u001b[1m2s\u001b[0m 876us/step - accuracy: 0.8671 - loss: 0.2742 - val_accuracy: 0.8716 - val_loss: 0.2605\n",
            "Epoch 41/50\n",
            "\u001b[1m2193/2193\u001b[0m \u001b[32m━━━━━━━━━━━━━━━━━━━━\u001b[0m\u001b[37m\u001b[0m \u001b[1m2s\u001b[0m 866us/step - accuracy: 0.8657 - loss: 0.2756 - val_accuracy: 0.8734 - val_loss: 0.2589\n",
            "Epoch 42/50\n",
            "\u001b[1m2193/2193\u001b[0m \u001b[32m━━━━━━━━━━━━━━━━━━━━\u001b[0m\u001b[37m\u001b[0m \u001b[1m2s\u001b[0m 871us/step - accuracy: 0.8680 - loss: 0.2720 - val_accuracy: 0.8715 - val_loss: 0.2611\n",
            "Epoch 43/50\n",
            "\u001b[1m2193/2193\u001b[0m \u001b[32m━━━━━━━━━━━━━━━━━━━━\u001b[0m\u001b[37m\u001b[0m \u001b[1m2s\u001b[0m 895us/step - accuracy: 0.8717 - loss: 0.2700 - val_accuracy: 0.8765 - val_loss: 0.2572\n",
            "Epoch 44/50\n",
            "\u001b[1m2193/2193\u001b[0m \u001b[32m━━━━━━━━━━━━━━━━━━━━\u001b[0m\u001b[37m\u001b[0m \u001b[1m2s\u001b[0m 914us/step - accuracy: 0.8678 - loss: 0.2744 - val_accuracy: 0.8754 - val_loss: 0.2558\n",
            "Epoch 45/50\n",
            "\u001b[1m2193/2193\u001b[0m \u001b[32m━━━━━━━━━━━━━━━━━━━━\u001b[0m\u001b[37m\u001b[0m \u001b[1m2s\u001b[0m 891us/step - accuracy: 0.8685 - loss: 0.2721 - val_accuracy: 0.8738 - val_loss: 0.2567\n",
            "Epoch 46/50\n",
            "\u001b[1m2193/2193\u001b[0m \u001b[32m━━━━━━━━━━━━━━━━━━━━\u001b[0m\u001b[37m\u001b[0m \u001b[1m2s\u001b[0m 936us/step - accuracy: 0.8678 - loss: 0.2695 - val_accuracy: 0.8732 - val_loss: 0.2563\n",
            "Epoch 47/50\n",
            "\u001b[1m2193/2193\u001b[0m \u001b[32m━━━━━━━━━━━━━━━━━━━━\u001b[0m\u001b[37m\u001b[0m \u001b[1m2s\u001b[0m 884us/step - accuracy: 0.8710 - loss: 0.2699 - val_accuracy: 0.8739 - val_loss: 0.2593\n",
            "Epoch 48/50\n",
            "\u001b[1m2193/2193\u001b[0m \u001b[32m━━━━━━━━━━━━━━━━━━━━\u001b[0m\u001b[37m\u001b[0m \u001b[1m2s\u001b[0m 878us/step - accuracy: 0.8668 - loss: 0.2744 - val_accuracy: 0.8739 - val_loss: 0.2574\n",
            "Epoch 49/50\n",
            "\u001b[1m2193/2193\u001b[0m \u001b[32m━━━━━━━━━━━━━━━━━━━━\u001b[0m\u001b[37m\u001b[0m \u001b[1m2s\u001b[0m 868us/step - accuracy: 0.8688 - loss: 0.2720 - val_accuracy: 0.8762 - val_loss: 0.2581\n",
            "Epoch 50/50\n",
            "\u001b[1m2193/2193\u001b[0m \u001b[32m━━━━━━━━━━━━━━━━━━━━\u001b[0m\u001b[37m\u001b[0m \u001b[1m2s\u001b[0m 954us/step - accuracy: 0.8655 - loss: 0.2735 - val_accuracy: 0.8713 - val_loss: 0.2617\n"
          ]
        }
      ],
      "source": [
        "history = model.fit(\n",
        "    X_train, y_train,\n",
        "    epochs=50,\n",
        "    batch_size=32,\n",
        "    validation_split=0.2,\n",
        "    # class_weight=class_weights_dict,\n",
        "    # callbacks=[early_stopping]\n",
        ")"
      ]
    },
    {
      "cell_type": "code",
      "execution_count": 13,
      "metadata": {
        "colab": {
          "base_uri": "https://localhost:8080/"
        },
        "id": "-56C3qJfjQtB",
        "outputId": "dd199a7a-7e34-46f7-e589-a1b764774015"
      },
      "outputs": [
        {
          "name": "stdout",
          "output_type": "stream",
          "text": [
            "\u001b[1m686/686\u001b[0m \u001b[32m━━━━━━━━━━━━━━━━━━━━\u001b[0m\u001b[37m\u001b[0m \u001b[1m1s\u001b[0m 1ms/step - accuracy: 0.8658 - loss: 0.2655\n",
            "Test Accuracy: 0.8699\n"
          ]
        }
      ],
      "source": [
        "test_loss, test_accuracy = model.evaluate(X_test, y_test)\n",
        "print(f\"Test Accuracy: {test_accuracy:.4f}\")"
      ]
    },
    {
      "cell_type": "code",
      "execution_count": 14,
      "metadata": {
        "colab": {
          "base_uri": "https://localhost:8080/"
        },
        "id": "rNBFsT98j0ZG",
        "outputId": "5887b54e-e8af-4aca-a7bc-6167f7d81f4a"
      },
      "outputs": [
        {
          "name": "stdout",
          "output_type": "stream",
          "text": [
            "\u001b[1m686/686\u001b[0m \u001b[32m━━━━━━━━━━━━━━━━━━━━\u001b[0m\u001b[37m\u001b[0m \u001b[1m1s\u001b[0m 966us/step\n"
          ]
        }
      ],
      "source": [
        "y_pred = (model.predict(X_test) > 0.5).astype(\"int32\")"
      ]
    },
    {
      "cell_type": "code",
      "execution_count": 15,
      "metadata": {
        "colab": {
          "base_uri": "https://localhost:8080/"
        },
        "id": "cVz3q5fMj2mu",
        "outputId": "12554ac2-afbd-43f9-e896-446da6ceba64"
      },
      "outputs": [
        {
          "name": "stdout",
          "output_type": "stream",
          "text": [
            "\n",
            "Classification Report:\n",
            "              precision    recall  f1-score   support\n",
            "\n",
            "           0       0.97      0.81      0.88     13257\n",
            "           1       0.77      0.96      0.85      8670\n",
            "\n",
            "    accuracy                           0.87     21927\n",
            "   macro avg       0.87      0.89      0.87     21927\n",
            "weighted avg       0.89      0.87      0.87     21927\n",
            "\n"
          ]
        }
      ],
      "source": [
        "print(\"\\nClassification Report:\")\n",
        "print(classification_report(y_test, y_pred))"
      ]
    },
    {
      "cell_type": "code",
      "execution_count": 16,
      "metadata": {
        "colab": {
          "base_uri": "https://localhost:8080/"
        },
        "id": "LLMSBo8Cj46U",
        "outputId": "b3b36ab5-2fce-4e54-bce4-4ca85cc6d471"
      },
      "outputs": [
        {
          "name": "stdout",
          "output_type": "stream",
          "text": [
            "Accuracy Score: 0.8699\n"
          ]
        }
      ],
      "source": [
        "print(f\"Accuracy Score: {accuracy_score(y_test, y_pred):.4f}\")"
      ]
    },
    {
      "cell_type": "code",
      "execution_count": 17,
      "metadata": {
        "colab": {
          "base_uri": "https://localhost:8080/"
        },
        "id": "Fea54IUAj82p",
        "outputId": "756ff6f7-712b-4384-c2fd-8cf7e96424e3"
      },
      "outputs": [
        {
          "name": "stdout",
          "output_type": "stream",
          "text": [
            "\u001b[1m1/1\u001b[0m \u001b[32m━━━━━━━━━━━━━━━━━━━━\u001b[0m\u001b[37m\u001b[0m \u001b[1m0s\u001b[0m 21ms/step\n",
            "Predicted Class: 0\n"
          ]
        }
      ],
      "source": [
        "single_row_data = {\n",
        "    'pos': 72,\n",
        "    'flw': 210,\n",
        "    'flg': 1400,\n",
        "    'bl': 122,\n",
        "    'pic': 1,\n",
        "    'lin': 0,\n",
        "    'cl': 35,\n",
        "    'cz': 0.055555556,\n",
        "    'ni': 0,\n",
        "    'erl': 12.510000229,\n",
        "    'erc': 0.2599999905,\n",
        "    'lt': 0,\n",
        "    'hc': 0.1669999957,\n",
        "    'pr': 0,\n",
        "    'fo': 1,\n",
        "    'cs': 0.064790003,\n",
        "    'pi': 16.430524826\n",
        "}\n",
        "\n",
        "# Convert the dictionary to a DataFrame\n",
        "single_row_df = pd.DataFrame([single_row_data])\n",
        "\n",
        "# Step 2: Scale the data using the same scaler as during training\n",
        "single_row_scaled = scaler.transform(single_row_df)\n",
        "\n",
        "# Step 3: Make the prediction\n",
        "prediction = model.predict(single_row_scaled)\n",
        "\n",
        "# Since the output is a probability (sigmoid), we threshold it to get the class (0 or 1)\n",
        "predicted_class = (prediction > 0.5).astype(\"int32\")\n",
        "\n",
        "# Output the prediction\n",
        "print(f\"Predicted Class: {predicted_class[0][0]}\")"
      ]
    },
    {
      "cell_type": "code",
      "execution_count": 18,
      "metadata": {
        "id": "fEMHPhJ3vrD3"
      },
      "outputs": [
        {
          "name": "stdout",
          "output_type": "stream",
          "text": [
            "Model saved successfully!\n"
          ]
        }
      ],
      "source": [
        "# Save the TensorFlow/Keras model\n",
        "model.save(\"../models/dnn_model.keras\")  \n",
        "print(\"Model saved successfully!\")\n"
      ]
    }
  ],
  "metadata": {
    "accelerator": "GPU",
    "colab": {
      "gpuType": "T4",
      "provenance": []
    },
    "kernelspec": {
      "display_name": "Python 3",
      "name": "python3"
    },
    "language_info": {
      "codemirror_mode": {
        "name": "ipython",
        "version": 3
      },
      "file_extension": ".py",
      "mimetype": "text/x-python",
      "name": "python",
      "nbconvert_exporter": "python",
      "pygments_lexer": "ipython3",
      "version": "3.12.5"
    }
  },
  "nbformat": 4,
  "nbformat_minor": 0
}
